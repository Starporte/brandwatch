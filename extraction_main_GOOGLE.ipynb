{
  "cells": [
    {
      "cell_type": "markdown",
      "metadata": {
        "id": "view-in-github",
        "colab_type": "text"
      },
      "source": [
        "<a href=\"https://colab.research.google.com/github/Starporte/brandwatch/blob/main/extraction_main_GOOGLE.ipynb\" target=\"_parent\"><img src=\"https://colab.research.google.com/assets/colab-badge.svg\" alt=\"Open In Colab\"/></a>"
      ]
    },
    {
      "cell_type": "markdown",
      "metadata": {
        "id": "lPzTjTJHD40-"
      },
      "source": [
        "# Python Client Library for the Brandwatch Consumer Research API: Demo"
      ]
    },
    {
      "cell_type": "code",
      "source": [
        "!pip install bcr_api"
      ],
      "metadata": {
        "colab": {
          "base_uri": "https://localhost:8080/"
        },
        "id": "rR-EaViuD6r1",
        "outputId": "b1c602ea-a88a-45f8-ec84-37562e491a84",
        "collapsed": true
      },
      "execution_count": 1,
      "outputs": [
        {
          "output_type": "stream",
          "name": "stdout",
          "text": [
            "Collecting bcr_api\n",
            "  Downloading bcr-api-1.5.1.tar.gz (31 kB)\n",
            "  Preparing metadata (setup.py) ... \u001b[?25l\u001b[?25hdone\n",
            "Requirement already satisfied: requests>=2.22.0 in /usr/local/lib/python3.11/dist-packages (from bcr_api) (2.32.3)\n",
            "Requirement already satisfied: charset-normalizer<4,>=2 in /usr/local/lib/python3.11/dist-packages (from requests>=2.22.0->bcr_api) (3.4.1)\n",
            "Requirement already satisfied: idna<4,>=2.5 in /usr/local/lib/python3.11/dist-packages (from requests>=2.22.0->bcr_api) (3.10)\n",
            "Requirement already satisfied: urllib3<3,>=1.21.1 in /usr/local/lib/python3.11/dist-packages (from requests>=2.22.0->bcr_api) (2.3.0)\n",
            "Requirement already satisfied: certifi>=2017.4.17 in /usr/local/lib/python3.11/dist-packages (from requests>=2.22.0->bcr_api) (2025.1.31)\n",
            "Building wheels for collected packages: bcr_api\n",
            "  Building wheel for bcr_api (setup.py) ... \u001b[?25l\u001b[?25hdone\n",
            "  Created wheel for bcr_api: filename=bcr_api-1.5.1-py35-none-any.whl size=28874 sha256=f7fec711025aeb7740c4d0856778f7c9430d60322459e3721b5947748a621c8a\n",
            "  Stored in directory: /root/.cache/pip/wheels/bb/f5/5c/816876d6bba15598b4588d0763f2c29f18da92d6306ea681d4\n",
            "Successfully built bcr_api\n",
            "Installing collected packages: bcr_api\n",
            "Successfully installed bcr_api-1.5.1\n"
          ]
        }
      ]
    },
    {
      "cell_type": "code",
      "execution_count": 2,
      "metadata": {
        "id": "K7UoqJtnD41A",
        "colab": {
          "base_uri": "https://localhost:8080/",
          "height": 211
        },
        "outputId": "4961851c-31df-45fd-eace-3e6fc0b5e824"
      },
      "outputs": [
        {
          "output_type": "error",
          "ename": "FileNotFoundError",
          "evalue": "[Errno 2] No such file or directory: 'token/password.txt'",
          "traceback": [
            "\u001b[0;31m---------------------------------------------------------------------------\u001b[0m",
            "\u001b[0;31mFileNotFoundError\u001b[0m                         Traceback (most recent call last)",
            "\u001b[0;32m<ipython-input-2-c5582dbc8162>\u001b[0m in \u001b[0;36m<cell line: 0>\u001b[0;34m()\u001b[0m\n\u001b[1;32m     26\u001b[0m \u001b[0;31m#logger.setLevel(logging.CRITICAL)\u001b[0m\u001b[0;34m\u001b[0m\u001b[0;34m\u001b[0m\u001b[0m\n\u001b[1;32m     27\u001b[0m \u001b[0;34m\u001b[0m\u001b[0m\n\u001b[0;32m---> 28\u001b[0;31m \u001b[0;32mwith\u001b[0m \u001b[0mopen\u001b[0m\u001b[0;34m(\u001b[0m\u001b[0;34m'token/password.txt'\u001b[0m\u001b[0;34m,\u001b[0m \u001b[0;34m'r'\u001b[0m\u001b[0;34m)\u001b[0m \u001b[0;32mas\u001b[0m \u001b[0mf\u001b[0m\u001b[0;34m:\u001b[0m\u001b[0;34m\u001b[0m\u001b[0;34m\u001b[0m\u001b[0m\n\u001b[0m\u001b[1;32m     29\u001b[0m     \u001b[0mcontents\u001b[0m \u001b[0;34m=\u001b[0m \u001b[0mf\u001b[0m\u001b[0;34m.\u001b[0m\u001b[0mread\u001b[0m\u001b[0;34m(\u001b[0m\u001b[0;34m)\u001b[0m\u001b[0;34m\u001b[0m\u001b[0;34m\u001b[0m\u001b[0m\n\u001b[1;32m     30\u001b[0m \u001b[0;34m\u001b[0m\u001b[0m\n",
            "\u001b[0;31mFileNotFoundError\u001b[0m: [Errno 2] No such file or directory: 'token/password.txt'"
          ]
        }
      ],
      "source": [
        "from bcr_api.bwproject import BWProject, BWUser\n",
        "from bcr_api.bwresources import BWQueries, BWGroups, BWAuthorLists, BWSiteLists, BWLocationLists, BWTags, BWCategories, BWRules, BWMentions, BWSignals\n",
        "import datetime\n",
        "import requests\n",
        "import json\n",
        "import shutil\n",
        "import os\n",
        "import pandas as pd\n",
        "\n",
        "import logging\n",
        "logger = logging.getLogger(\"bcr_api\")\n",
        "\n",
        "#(Default) All logging messages enabled\n",
        "#logger.setLevel(logging.DEBUG)\n",
        "\n",
        "#Does not report URLs of API requests, but all other messages enabled\n",
        "#logger.setLevel(logging.INFO)\n",
        "\n",
        "#Report only errors and warnings\n",
        "#logger.setLevel(logging.WARN)\n",
        "\n",
        "#Report only errors\n",
        "#logger.setLevel(logging.ERROR)\n",
        "\n",
        "#Disable logging\n",
        "#logger.setLevel(logging.CRITICAL)\n",
        "\n",
        "with open('token/password.txt', 'r') as f:\n",
        "    contents = f.read()\n",
        "\n",
        "BWUser(username=\"christian.said@sanofi.com\", password=\"Facilito-2\", token_path=\"/content/drive/MyDrive/colab/work/API_Brandwatch/Luc/tokens.txt\")\n",
        "\n",
        "YOUR_ACCOUNT = \"christian.said@sanofi.com\" # Define the username variable\n",
        "YOUR_PROJECT = \"1998385403\"\n",
        "\n",
        "# Instead of just username, provide token_path as well to make sure it's used\n",
        "project = BWProject(username=YOUR_ACCOUNT, project=YOUR_PROJECT, token_path=\"/content/drive/MyDrive/colab/work/API_Brandwatch/Luc/tokens.txt\")\n",
        "queries = BWQueries(project)\n",
        "\n",
        "queries.names"
      ]
    },
    {
      "cell_type": "markdown",
      "metadata": {
        "id": "ypg0N0zuD41H"
      },
      "source": [
        "## Downloading Mentions (From a Query or a Group)"
      ]
    },
    {
      "cell_type": "code",
      "execution_count": null,
      "metadata": {
        "id": "uYgLKXW-D41I"
      },
      "outputs": [],
      "source": [
        "yesterday = (datetime.date.today() - datetime.timedelta(days=1)).isoformat() + \"T05:00:00\"\n",
        "day_before_yesterday = (datetime.date.today() - datetime.timedelta(days=2)).isoformat() + \"T05:00:00\"\n",
        "\n",
        "end = yesterday\n",
        "start = day_before_yesterday\n",
        "\n",
        "print(\"end\",end)\n",
        "print(\"start\",start)"
      ]
    },
    {
      "cell_type": "code",
      "source": [
        "queries_dict = queries.names\n",
        "queries_dict\n",
        "\n",
        "results = {}\n",
        "dfs = {}  # Dictionnaire pour contenir les DataFrames\n",
        "\n",
        "for query_id, query_name in stargate_queries.items():\n",
        "    # Extraire le tag après \"stargate_\" (comme DERMA, ONCO, etc.)\n",
        "    if '_' in query_name:\n",
        "        tag = query_name.split('_')[1]\n",
        "    else:\n",
        "        tag = query_name  # Si pas de format standard, utiliser le nom complet\n",
        "    print(f\"Processing query: {query_name} (ID: {query_id})\")\n",
        "\n",
        "    # Obtenir les mentions pour cette query\n",
        "    # Ajustez cette ligne selon comment fonctionne réellement votre fonction get_mentions\n",
        "    filtered_mentions = queries.get_mentions(name=query_name, startDate=start, endDate=end)\n",
        "    dfs[tag] = pd.DataFrame(filtered_mentions)\n",
        "\n",
        "    # Stocker les résultats\n",
        "    results[query_name] = filtered_mentions\n",
        "\n",
        "# Utiliser les résultats comme nécessaire\n",
        "for query_name, mentions in results.items():\n",
        "    print(f\"\\nResults for {query_name}:\")\n",
        "    # Traiter ou afficher les mentions ici\n",
        "    print(f\"Number of mentions: {len(mentions)}\")"
      ],
      "metadata": {
        "id": "RFhtvaqBjrIK"
      },
      "execution_count": null,
      "outputs": []
    },
    {
      "cell_type": "code",
      "source": [
        "dfs[\"SEP\"].head()"
      ],
      "metadata": {
        "id": "DdDBzvF-jtlH"
      },
      "execution_count": null,
      "outputs": []
    },
    {
      "cell_type": "code",
      "source": [
        "# Compter les occurrences de chaque valeur dans la colonne 'contentSource'\n",
        "source_counts = dfs[\"SEP\"]['contentSource'].value_counts()\n",
        "\n",
        "# Afficher les résultats\n",
        "print(source_counts)"
      ],
      "metadata": {
        "id": "QRJEiaxqjxLE"
      },
      "execution_count": null,
      "outputs": []
    },
    {
      "cell_type": "code",
      "source": [
        "pd.set_option('display.max_columns', None)  # Pour afficher toutes les colonnes\n",
        "list(dfs[\"SEP\"].columns)  # Pour voir la liste complète des noms de colonnes\n"
      ],
      "metadata": {
        "id": "fUl8H2ORjzij"
      },
      "execution_count": null,
      "outputs": []
    },
    {
      "cell_type": "code",
      "source": [],
      "metadata": {
        "id": "gjcHm6W8j1LP"
      },
      "execution_count": null,
      "outputs": []
    }
  ],
  "metadata": {
    "kernelspec": {
      "display_name": "Python 3 (ipykernel)",
      "language": "python",
      "name": "python3"
    },
    "language_info": {
      "codemirror_mode": {
        "name": "ipython",
        "version": 3
      },
      "file_extension": ".py",
      "mimetype": "text/x-python",
      "name": "python",
      "nbconvert_exporter": "python",
      "pygments_lexer": "ipython3",
      "version": "3.11.7"
    },
    "colab": {
      "provenance": [],
      "include_colab_link": true
    }
  },
  "nbformat": 4,
  "nbformat_minor": 0
}