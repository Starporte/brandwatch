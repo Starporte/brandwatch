{
 "cells": [
  {
   "cell_type": "code",
   "execution_count": 3,
   "id": "146dcef9-3a0e-42b7-9a49-b9329f180d41",
   "metadata": {},
   "outputs": [
    {
     "name": "stdout",
     "output_type": "stream",
     "text": [
      "Looking in indexes: https://jfrog-proxy.services.p171649450587.aws-emea.sanofi.com/artifactory/api/pypi/pypi-one_ai-virtual/simple, https://pypi.org/simple\n",
      "Collecting bcr_api\n",
      "  Using cached bcr_api-1.5.1-py35-none-any.whl\n",
      "Requirement already satisfied: requests>=2.22.0 in /opt/conda/lib/python3.10/site-packages (from bcr_api) (2.31.0)\n",
      "Requirement already satisfied: charset-normalizer<4,>=2 in /opt/conda/lib/python3.10/site-packages (from requests>=2.22.0->bcr_api) (3.3.2)\n",
      "Requirement already satisfied: idna<4,>=2.5 in /opt/conda/lib/python3.10/site-packages (from requests>=2.22.0->bcr_api) (3.6)\n",
      "Requirement already satisfied: urllib3<3,>=1.21.1 in /opt/conda/lib/python3.10/site-packages (from requests>=2.22.0->bcr_api) (2.2.1)\n",
      "Requirement already satisfied: certifi>=2017.4.17 in /opt/conda/lib/python3.10/site-packages (from requests>=2.22.0->bcr_api) (2024.7.4)\n",
      "Installing collected packages: bcr_api\n",
      "Successfully installed bcr_api-1.5.1\n",
      "\n",
      "\u001b[1m[\u001b[0m\u001b[34;49mnotice\u001b[0m\u001b[1;39;49m]\u001b[0m\u001b[39;49m A new release of pip is available: \u001b[0m\u001b[31;49m24.3.1\u001b[0m\u001b[39;49m -> \u001b[0m\u001b[32;49m25.0.1\u001b[0m\n",
      "\u001b[1m[\u001b[0m\u001b[34;49mnotice\u001b[0m\u001b[1;39;49m]\u001b[0m\u001b[39;49m To update, run: \u001b[0m\u001b[32;49mpip install --upgrade pip\u001b[0m\n"
     ]
    }
   ],
   "source": [
    "!pip install bcr_api"
   ]
  },
  {
   "cell_type": "code",
   "execution_count": 1,
   "id": "9c911b3e-ac6c-4a6a-b795-e57ee91433be",
   "metadata": {},
   "outputs": [
    {
     "ename": "ModuleNotFoundError",
     "evalue": "No module named 'bcr_api'",
     "output_type": "error",
     "traceback": [
      "\u001b[0;31m---------------------------------------------------------------------------\u001b[0m",
      "\u001b[0;31mModuleNotFoundError\u001b[0m                       Traceback (most recent call last)",
      "Cell \u001b[0;32mIn[1], line 1\u001b[0m\n\u001b[0;32m----> 1\u001b[0m \u001b[38;5;28;01mfrom\u001b[39;00m \u001b[38;5;21;01mbcr_api\u001b[39;00m\u001b[38;5;21;01m.\u001b[39;00m\u001b[38;5;21;01mbwproject\u001b[39;00m \u001b[38;5;28;01mimport\u001b[39;00m BWProject, BWUser\n\u001b[1;32m      2\u001b[0m \u001b[38;5;28;01mfrom\u001b[39;00m \u001b[38;5;21;01mbcr_api\u001b[39;00m\u001b[38;5;21;01m.\u001b[39;00m\u001b[38;5;21;01mbwresources\u001b[39;00m \u001b[38;5;28;01mimport\u001b[39;00m BWQueries, BWGroups, BWAuthorLists, BWSiteLists, BWLocationLists, BWTags, BWCategories, BWRules, BWMentions, BWSignals\n\u001b[1;32m      3\u001b[0m \u001b[38;5;28;01mimport\u001b[39;00m \u001b[38;5;21;01mdatetime\u001b[39;00m\n",
      "\u001b[0;31mModuleNotFoundError\u001b[0m: No module named 'bcr_api'"
     ]
    }
   ],
   "source": [
    "from bcr_api.bwproject import BWProject, BWUser\n",
    "from bcr_api.bwresources import BWQueries, BWGroups, BWAuthorLists, BWSiteLists, BWLocationLists, BWTags, BWCategories, BWRules, BWMentions, BWSignals\n",
    "import datetime\n",
    "import requests\n",
    "import json\n",
    "import shutil\n",
    "import os\n",
    "import pandas as pd\n",
    "\n",
    "import logging\n",
    "logger = logging.getLogger(\"bcr_api\")\n",
    "\n",
    "#(Default) All logging messages enabled\n",
    "#logger.setLevel(logging.DEBUG)\n",
    "\n",
    "#Does not report URLs of API requests, but all other messages enabled\n",
    "#logger.setLevel(logging.INFO)\n",
    "\n",
    "#Report only errors and warnings\n",
    "#logger.setLevel(logging.WARN)\n",
    "\n",
    "#Report only errors\n",
    "#logger.setLevel(logging.ERROR)\n",
    "\n",
    "#Disable logging\n",
    "#logger.setLevel(logging.CRITICAL)\n",
    "\n",
    "with open('token/password.txt', 'r') as f:\n",
    "    contents = f.read()\n",
    "\n",
    "BWUser(username=\"christian.said@sanofi.com\", password=contents, token_path=\"token/brandwatch_token.txt\")\n",
    "\n",
    "\n",
    "YOUR_ACCOUNT = \"christian.said@sanofi.com\" # Define the username variable\n",
    "YOUR_PROJECT = \"1998385403\"\n",
    "\n",
    "# Instead of just username, provide token_path as well to make sure it's used\n",
    "project = BWProject(username=YOUR_ACCOUNT, project=YOUR_PROJECT, token_path=\"token/brandwatch_token.txt\")\n",
    "\n",
    "queries = BWQueries(project)\n",
    "\n",
    "queries.names"
   ]
  },
  {
   "cell_type": "code",
   "execution_count": 40,
   "id": "2efe4160-8913-4d15-a13b-a83ad711da5c",
   "metadata": {},
   "outputs": [
    {
     "name": "stdout",
     "output_type": "stream",
     "text": [
      "end 2025-03-12T05:00:00\n",
      "start 2025-03-11T05:00:00\n"
     ]
    }
   ],
   "source": [
    "yesterday = (datetime.date.today() - datetime.timedelta(days=1)).isoformat() + \"T05:00:00\"\n",
    "day_before_yesterday = (datetime.date.today() - datetime.timedelta(days=2)).isoformat() + \"T05:00:00\"\n",
    "\n",
    "end = yesterday\n",
    "start = day_before_yesterday\n",
    "\n",
    "print(\"end\",end)\n",
    "print(\"start\",start)"
   ]
  },
  {
   "cell_type": "code",
   "execution_count": 7,
   "id": "e460f76a-f8c9-414e-9ee0-b24802197201",
   "metadata": {},
   "outputs": [],
   "source": [
    "queries_dict = queries.names"
   ]
  },
  {
   "cell_type": "code",
   "execution_count": 38,
   "id": "d779bf76-d0a9-40b1-bf75-ce9b46430af4",
   "metadata": {},
   "outputs": [],
   "source": [
    "stargate_queries = {id: name for id, name in queries_dict.items() if 'stargate_' in name.lower()}"
   ]
  },
  {
   "cell_type": "code",
   "execution_count": 39,
   "id": "cf5c1495-c3be-414c-a0bc-eb4131efad40",
   "metadata": {},
   "outputs": [
    {
     "data": {
      "text/plain": [
       "{2003137363: 'stargate_DERMA',\n",
       " 2003137344: 'stargate_ONCO',\n",
       " 2003137351: 'stargate_PEDVAC',\n",
       " 2003134467: 'stargate_RESPI',\n",
       " 2003137365: 'stargate_SEP',\n",
       " 2003137372: 'stargate_T1D'}"
      ]
     },
     "execution_count": 39,
     "metadata": {},
     "output_type": "execute_result"
    }
   ],
   "source": [
    "stargate_queries"
   ]
  },
  {
   "cell_type": "code",
   "execution_count": 41,
   "id": "c2ce7003-b6aa-4fd2-abaf-8bb7844c457f",
   "metadata": {},
   "outputs": [
    {
     "name": "stdout",
     "output_type": "stream",
     "text": [
      "Processing query: stargate_DERMA (ID: 2003137363)\n"
     ]
    },
    {
     "name": "stderr",
     "output_type": "stream",
     "text": [
      "15:36:40 DEBUG: https://api.brandwatch.com/projects/1998385403/data/mentions/fulltext?queryId=2003137363&startDate=2025-03-11T05%3A00%3A00&endDate=2025-03-12T05%3A00%3A00&pageSize=5000\n",
      "15:36:40 INFO: Mentions page 1 of queries stargate_DERMA retrieved\n",
      "15:36:40 INFO: 3347 mentions downloaded\n"
     ]
    },
    {
     "name": "stdout",
     "output_type": "stream",
     "text": [
      "Processing query: stargate_ONCO (ID: 2003137344)\n"
     ]
    },
    {
     "name": "stderr",
     "output_type": "stream",
     "text": [
      "15:36:47 DEBUG: https://api.brandwatch.com/projects/1998385403/data/mentions/fulltext?queryId=2003137344&startDate=2025-03-11T05%3A00%3A00&endDate=2025-03-12T05%3A00%3A00&pageSize=5000\n",
      "15:36:47 INFO: Mentions page 1 of queries stargate_ONCO retrieved\n",
      "15:36:58 DEBUG: https://api.brandwatch.com/projects/1998385403/data/mentions/fulltext?queryId=2003137344&startDate=2025-03-11T05%3A00%3A00&endDate=2025-03-12T05%3A00%3A00&pageSize=5000&cursor=AQ%3DAA%3DAZWHjcTQ%3DMjAwMzEzNzM0NCE3ZDFlODczODM4Y2Y2MDc4MjdiZjQ5NzZlZWEyNTJiNA\n",
      "15:36:59 INFO: Mentions page 2 of queries stargate_ONCO retrieved\n",
      "15:37:08 DEBUG: https://api.brandwatch.com/projects/1998385403/data/mentions/fulltext?queryId=2003137344&startDate=2025-03-11T05%3A00%3A00&endDate=2025-03-12T05%3A00%3A00&pageSize=5000&cursor=AQ%3DAA%3DAZWGstnY%3DMjAwMzEzNzM0NCFlZWNiNTM2ZDE4ZDIxMzMwOWFhODg0NDM1N2Q2ZTE2Yw\n",
      "15:37:09 INFO: Mentions page 3 of queries stargate_ONCO retrieved\n",
      "15:37:18 DEBUG: https://api.brandwatch.com/projects/1998385403/data/mentions/fulltext?queryId=2003137344&startDate=2025-03-11T05%3A00%3A00&endDate=2025-03-12T05%3A00%3A00&pageSize=5000&cursor=AQ%3DAA%3DAZWFbjR4%3DMjAwMzEzNzM0NCFhZDE2N2RjZDliZmY5NTc0MDg2NDE0ZTQwMGNlNDk0Mg\n",
      "15:37:18 INFO: Mentions page 4 of queries stargate_ONCO retrieved\n",
      "15:37:18 INFO: 18921 mentions downloaded\n"
     ]
    },
    {
     "name": "stdout",
     "output_type": "stream",
     "text": [
      "Processing query: stargate_PEDVAC (ID: 2003137351)\n"
     ]
    },
    {
     "name": "stderr",
     "output_type": "stream",
     "text": [
      "15:37:32 DEBUG: https://api.brandwatch.com/projects/1998385403/data/mentions/fulltext?queryId=2003137351&startDate=2025-03-11T05%3A00%3A00&endDate=2025-03-12T05%3A00%3A00&pageSize=5000\n",
      "15:37:32 INFO: Mentions page 1 of queries stargate_PEDVAC retrieved\n",
      "15:37:42 DEBUG: https://api.brandwatch.com/projects/1998385403/data/mentions/fulltext?queryId=2003137351&startDate=2025-03-11T05%3A00%3A00&endDate=2025-03-12T05%3A00%3A00&pageSize=5000&cursor=AQ%3DAA%3DAZWGSJ6I%3DMjAwMzEzNzM1MSE1ZTA4MTFkMjIxNjYwOTE2ZGZhMTAyMWFjZWY1NzE3ZQ\n",
      "15:37:42 INFO: Mentions page 2 of queries stargate_PEDVAC retrieved\n",
      "15:37:50 DEBUG: https://api.brandwatch.com/projects/1998385403/data/mentions/fulltext?queryId=2003137351&startDate=2025-03-11T05%3A00%3A00&endDate=2025-03-12T05%3A00%3A00&pageSize=5000&cursor=AQ%3DAA%3DAZWErg0Q%3DMjAwMzEzNzM1MSFjZTRkZDJlZWJjYTA5NDRmOTA3NDE5ZDU0MDM1YjE1Zg\n",
      "15:37:50 INFO: Mentions page 3 of queries stargate_PEDVAC retrieved\n",
      "15:37:50 INFO: 12130 mentions downloaded\n"
     ]
    },
    {
     "name": "stdout",
     "output_type": "stream",
     "text": [
      "Processing query: stargate_RESPI (ID: 2003134467)\n"
     ]
    },
    {
     "name": "stderr",
     "output_type": "stream",
     "text": [
      "15:38:05 DEBUG: https://api.brandwatch.com/projects/1998385403/data/mentions/fulltext?queryId=2003134467&startDate=2025-03-11T05%3A00%3A00&endDate=2025-03-12T05%3A00%3A00&pageSize=5000\n",
      "15:38:05 INFO: Mentions page 1 of queries stargate_RESPI retrieved\n",
      "15:38:05 INFO: 4734 mentions downloaded\n"
     ]
    },
    {
     "name": "stdout",
     "output_type": "stream",
     "text": [
      "Processing query: stargate_SEP (ID: 2003137365)\n"
     ]
    },
    {
     "name": "stderr",
     "output_type": "stream",
     "text": [
      "15:38:08 DEBUG: https://api.brandwatch.com/projects/1998385403/data/mentions/fulltext?queryId=2003137365&startDate=2025-03-11T05%3A00%3A00&endDate=2025-03-12T05%3A00%3A00&pageSize=5000\n",
      "15:38:08 INFO: Mentions page 1 of queries stargate_SEP retrieved\n",
      "15:38:08 INFO: 884 mentions downloaded\n"
     ]
    },
    {
     "name": "stdout",
     "output_type": "stream",
     "text": [
      "Processing query: stargate_T1D (ID: 2003137372)\n"
     ]
    },
    {
     "name": "stderr",
     "output_type": "stream",
     "text": [
      "15:38:12 DEBUG: https://api.brandwatch.com/projects/1998385403/data/mentions/fulltext?queryId=2003137372&startDate=2025-03-11T05%3A00%3A00&endDate=2025-03-12T05%3A00%3A00&pageSize=5000\n",
      "15:38:13 INFO: Mentions page 1 of queries stargate_T1D retrieved\n",
      "15:38:13 INFO: 2753 mentions downloaded\n"
     ]
    },
    {
     "name": "stdout",
     "output_type": "stream",
     "text": [
      "\n",
      "Results for stargate_DERMA:\n",
      "Number of mentions: 3347\n",
      "\n",
      "Results for stargate_ONCO:\n",
      "Number of mentions: 18921\n",
      "\n",
      "Results for stargate_PEDVAC:\n",
      "Number of mentions: 12130\n",
      "\n",
      "Results for stargate_RESPI:\n",
      "Number of mentions: 4734\n",
      "\n",
      "Results for stargate_SEP:\n",
      "Number of mentions: 884\n",
      "\n",
      "Results for stargate_T1D:\n",
      "Number of mentions: 2753\n"
     ]
    }
   ],
   "source": [
    "results = {}\n",
    "dfs = {}  # Dictionnaire pour contenir les DataFrames\n",
    "\n",
    "for query_id, query_name in stargate_queries.items():\n",
    "    # Extraire le tag après \"stargate_\" (comme DERMA, ONCO, etc.)\n",
    "    if '_' in query_name:\n",
    "        tag = query_name.split('_')[1]\n",
    "    else:\n",
    "        tag = query_name  # Si pas de format standard, utiliser le nom complet\n",
    "    print(f\"Processing query: {query_name} (ID: {query_id})\")\n",
    "    \n",
    "    # Obtenir les mentions pour cette query\n",
    "    # Ajustez cette ligne selon comment fonctionne réellement votre fonction get_mentions\n",
    "    filtered_mentions = queries.get_mentions(name=query_name, startDate=start, endDate=end)\n",
    "    dfs[tag] = pd.DataFrame(filtered_mentions)\n",
    "\n",
    "    # Stocker les résultats\n",
    "    results[query_name] = filtered_mentions\n",
    "\n",
    "# Utiliser les résultats comme nécessaire\n",
    "for query_name, mentions in results.items():\n",
    "    print(f\"\\nResults for {query_name}:\")\n",
    "    # Traiter ou afficher les mentions ici\n",
    "    print(f\"Number of mentions: {len(mentions)}\")"
   ]
  },
  {
   "cell_type": "code",
   "execution_count": 46,
   "id": "691350b4-8c20-4ced-8ced-20597b438552",
   "metadata": {},
   "outputs": [
    {
     "data": {
      "text/html": [
       "<div>\n",
       "<style scoped>\n",
       "    .dataframe tbody tr th:only-of-type {\n",
       "        vertical-align: middle;\n",
       "    }\n",
       "\n",
       "    .dataframe tbody tr th {\n",
       "        vertical-align: top;\n",
       "    }\n",
       "\n",
       "    .dataframe thead th {\n",
       "        text-align: right;\n",
       "    }\n",
       "</style>\n",
       "<table border=\"1\" class=\"dataframe\">\n",
       "  <thead>\n",
       "    <tr style=\"text-align: right;\">\n",
       "      <th></th>\n",
       "      <th>assetContentId</th>\n",
       "      <th>assetThumbId</th>\n",
       "      <th>accountType</th>\n",
       "      <th>added</th>\n",
       "      <th>assignment</th>\n",
       "      <th>author</th>\n",
       "      <th>authorVerifiedType</th>\n",
       "      <th>avatarUrl</th>\n",
       "      <th>blogName</th>\n",
       "      <th>broadcastMediaUrl</th>\n",
       "      <th>...</th>\n",
       "      <th>reactScoreHarmful</th>\n",
       "      <th>engagementScore</th>\n",
       "      <th>resourceId</th>\n",
       "      <th>entityInfo</th>\n",
       "      <th>impact</th>\n",
       "      <th>guid</th>\n",
       "      <th>classifications</th>\n",
       "      <th>imageMd5s</th>\n",
       "      <th>imageInfo</th>\n",
       "      <th>logoImages</th>\n",
       "    </tr>\n",
       "  </thead>\n",
       "  <tbody>\n",
       "    <tr>\n",
       "      <th>0</th>\n",
       "      <td>None</td>\n",
       "      <td>None</td>\n",
       "      <td>None</td>\n",
       "      <td>2025-03-12T18:20:22.523+0000</td>\n",
       "      <td>None</td>\n",
       "      <td>@P01S0N1VY-ab</td>\n",
       "      <td>None</td>\n",
       "      <td>None</td>\n",
       "      <td>None</td>\n",
       "      <td>None</td>\n",
       "      <td>...</td>\n",
       "      <td>Low</td>\n",
       "      <td>0.0</td>\n",
       "      <td>0e7efa5f54cca87d80231c709ba16045</td>\n",
       "      <td>[{'entityId': 35869, 'entityConfidence': 'HIGH...</td>\n",
       "      <td>NaN</td>\n",
       "      <td>NaN</td>\n",
       "      <td>NaN</td>\n",
       "      <td>NaN</td>\n",
       "      <td>NaN</td>\n",
       "      <td>NaN</td>\n",
       "    </tr>\n",
       "    <tr>\n",
       "      <th>1</th>\n",
       "      <td>None</td>\n",
       "      <td>None</td>\n",
       "      <td>None</td>\n",
       "      <td>2025-03-12T18:02:09.231+0000</td>\n",
       "      <td>None</td>\n",
       "      <td>Holiday-Shallot-3712</td>\n",
       "      <td>None</td>\n",
       "      <td>https://styles.redditmedia.com/t5_cygflb/style...</td>\n",
       "      <td>None</td>\n",
       "      <td>None</td>\n",
       "      <td>...</td>\n",
       "      <td>High</td>\n",
       "      <td>1.0</td>\n",
       "      <td>6a1aa879ef769cc05730ec308ed46b2f</td>\n",
       "      <td>NaN</td>\n",
       "      <td>NaN</td>\n",
       "      <td>mhc5elt</td>\n",
       "      <td>[{'classifierId': 'emotions', 'labelId': 'Ange...</td>\n",
       "      <td>NaN</td>\n",
       "      <td>NaN</td>\n",
       "      <td>NaN</td>\n",
       "    </tr>\n",
       "    <tr>\n",
       "      <th>2</th>\n",
       "      <td>None</td>\n",
       "      <td>None</td>\n",
       "      <td>None</td>\n",
       "      <td>2025-03-12T18:02:10.156+0000</td>\n",
       "      <td>None</td>\n",
       "      <td>Beneficial_Neck281</td>\n",
       "      <td>None</td>\n",
       "      <td>None</td>\n",
       "      <td>None</td>\n",
       "      <td>None</td>\n",
       "      <td>...</td>\n",
       "      <td>Low</td>\n",
       "      <td>2.0</td>\n",
       "      <td>9be9ecb5183bb4c285c6c33c9c35df0c</td>\n",
       "      <td>[{'entityId': 2985161, 'entityConfidence': 'LO...</td>\n",
       "      <td>NaN</td>\n",
       "      <td>mhc5eb1</td>\n",
       "      <td>[{'classifierId': 'emotions', 'labelId': 'Fear...</td>\n",
       "      <td>NaN</td>\n",
       "      <td>NaN</td>\n",
       "      <td>NaN</td>\n",
       "    </tr>\n",
       "    <tr>\n",
       "      <th>3</th>\n",
       "      <td>None</td>\n",
       "      <td>None</td>\n",
       "      <td>None</td>\n",
       "      <td>2025-03-12T18:02:09.201+0000</td>\n",
       "      <td>None</td>\n",
       "      <td>birlikten-kuvvet-dogar</td>\n",
       "      <td>None</td>\n",
       "      <td>None</td>\n",
       "      <td>birlikten-kuvvet-dogar</td>\n",
       "      <td>None</td>\n",
       "      <td>...</td>\n",
       "      <td>Low</td>\n",
       "      <td>0.0</td>\n",
       "      <td>200efb9a56795bf3427e458be0a8964b</td>\n",
       "      <td>[{'entityId': 3286546, 'entityConfidence': 'HI...</td>\n",
       "      <td>NaN</td>\n",
       "      <td>777787076530913280</td>\n",
       "      <td>[{'classifierId': 'emotions', 'labelId': 'Joy'...</td>\n",
       "      <td>[666130653631643561643030346532383638363737316...</td>\n",
       "      <td>[{'url': 'https://64.media.tumblr.com/7f1a9494...</td>\n",
       "      <td>NaN</td>\n",
       "    </tr>\n",
       "    <tr>\n",
       "      <th>4</th>\n",
       "      <td>None</td>\n",
       "      <td>None</td>\n",
       "      <td>None</td>\n",
       "      <td>2025-03-12T18:02:09.222+0000</td>\n",
       "      <td>None</td>\n",
       "      <td>bubbabearzle</td>\n",
       "      <td>None</td>\n",
       "      <td>https://i.redd.it/snoovatar/avatars/f8ee28cf-6...</td>\n",
       "      <td>None</td>\n",
       "      <td>None</td>\n",
       "      <td>...</td>\n",
       "      <td>Low</td>\n",
       "      <td>2.0</td>\n",
       "      <td>bbb46aebc79bef2e98f440228df26f89</td>\n",
       "      <td>[{'entityId': 7443701, 'entityConfidence': 'HI...</td>\n",
       "      <td>NaN</td>\n",
       "      <td>1j9bl8a</td>\n",
       "      <td>[{'classifierId': 'emotions', 'labelId': 'Fear...</td>\n",
       "      <td>NaN</td>\n",
       "      <td>NaN</td>\n",
       "      <td>NaN</td>\n",
       "    </tr>\n",
       "  </tbody>\n",
       "</table>\n",
       "<p>5 rows × 157 columns</p>\n",
       "</div>"
      ],
      "text/plain": [
       "  assetContentId assetThumbId accountType                         added  \\\n",
       "0           None         None        None  2025-03-12T18:20:22.523+0000   \n",
       "1           None         None        None  2025-03-12T18:02:09.231+0000   \n",
       "2           None         None        None  2025-03-12T18:02:10.156+0000   \n",
       "3           None         None        None  2025-03-12T18:02:09.201+0000   \n",
       "4           None         None        None  2025-03-12T18:02:09.222+0000   \n",
       "\n",
       "  assignment                  author authorVerifiedType  \\\n",
       "0       None           @P01S0N1VY-ab               None   \n",
       "1       None    Holiday-Shallot-3712               None   \n",
       "2       None      Beneficial_Neck281               None   \n",
       "3       None  birlikten-kuvvet-dogar               None   \n",
       "4       None            bubbabearzle               None   \n",
       "\n",
       "                                           avatarUrl                blogName  \\\n",
       "0                                               None                    None   \n",
       "1  https://styles.redditmedia.com/t5_cygflb/style...                    None   \n",
       "2                                               None                    None   \n",
       "3                                               None  birlikten-kuvvet-dogar   \n",
       "4  https://i.redd.it/snoovatar/avatars/f8ee28cf-6...                    None   \n",
       "\n",
       "  broadcastMediaUrl  ...  reactScoreHarmful engagementScore  \\\n",
       "0              None  ...                Low             0.0   \n",
       "1              None  ...               High             1.0   \n",
       "2              None  ...                Low             2.0   \n",
       "3              None  ...                Low             0.0   \n",
       "4              None  ...                Low             2.0   \n",
       "\n",
       "                         resourceId  \\\n",
       "0  0e7efa5f54cca87d80231c709ba16045   \n",
       "1  6a1aa879ef769cc05730ec308ed46b2f   \n",
       "2  9be9ecb5183bb4c285c6c33c9c35df0c   \n",
       "3  200efb9a56795bf3427e458be0a8964b   \n",
       "4  bbb46aebc79bef2e98f440228df26f89   \n",
       "\n",
       "                                          entityInfo impact  \\\n",
       "0  [{'entityId': 35869, 'entityConfidence': 'HIGH...    NaN   \n",
       "1                                                NaN    NaN   \n",
       "2  [{'entityId': 2985161, 'entityConfidence': 'LO...    NaN   \n",
       "3  [{'entityId': 3286546, 'entityConfidence': 'HI...    NaN   \n",
       "4  [{'entityId': 7443701, 'entityConfidence': 'HI...    NaN   \n",
       "\n",
       "                 guid                                    classifications  \\\n",
       "0                 NaN                                                NaN   \n",
       "1             mhc5elt  [{'classifierId': 'emotions', 'labelId': 'Ange...   \n",
       "2             mhc5eb1  [{'classifierId': 'emotions', 'labelId': 'Fear...   \n",
       "3  777787076530913280  [{'classifierId': 'emotions', 'labelId': 'Joy'...   \n",
       "4             1j9bl8a  [{'classifierId': 'emotions', 'labelId': 'Fear...   \n",
       "\n",
       "                                           imageMd5s  \\\n",
       "0                                                NaN   \n",
       "1                                                NaN   \n",
       "2                                                NaN   \n",
       "3  [666130653631643561643030346532383638363737316...   \n",
       "4                                                NaN   \n",
       "\n",
       "                                           imageInfo logoImages  \n",
       "0                                                NaN        NaN  \n",
       "1                                                NaN        NaN  \n",
       "2                                                NaN        NaN  \n",
       "3  [{'url': 'https://64.media.tumblr.com/7f1a9494...        NaN  \n",
       "4                                                NaN        NaN  \n",
       "\n",
       "[5 rows x 157 columns]"
      ]
     },
     "execution_count": 46,
     "metadata": {},
     "output_type": "execute_result"
    }
   ],
   "source": [
    "dfs[\"RESPI\"].head()"
   ]
  },
  {
   "cell_type": "code",
   "execution_count": 18,
   "id": "86e8c432-b988-43d4-86ca-bc8ecbf2edc3",
   "metadata": {},
   "outputs": [
    {
     "name": "stdout",
     "output_type": "stream",
     "text": [
      "\n",
      "Results for stargate_DERMA:\n",
      "Number of mentions: 3344\n",
      "\n",
      "Results for stargate_ONCO:\n",
      "Number of mentions: 18919\n",
      "\n",
      "Results for stargate_PEDVAC:\n",
      "Number of mentions: 12130\n",
      "\n",
      "Results for stargate_RESPI:\n",
      "Number of mentions: 4732\n",
      "\n",
      "Results for stargate_SEP:\n",
      "Number of mentions: 883\n",
      "\n",
      "Results for stargate_T1D:\n",
      "Number of mentions: 2753\n"
     ]
    }
   ],
   "source": [
    "for query_name, mentions in results.items():\n",
    "    print(f\"\\nResults for {query_name}:\")\n",
    "    # Traiter ou afficher les mentions ici\n",
    "    print(f\"Number of mentions: {len(mentions)}\")"
   ]
  },
  {
   "cell_type": "code",
   "execution_count": 31,
   "id": "0fc32eb1-1ffd-402b-9783-7016c5cb48a0",
   "metadata": {},
   "outputs": [],
   "source": [
    "df = pd.DataFrame(first_result)"
   ]
  },
  {
   "cell_type": "code",
   "execution_count": 58,
   "id": "cec0df44-630e-4e3b-bf60-58f6cafd9522",
   "metadata": {},
   "outputs": [],
   "source": [
    "dfs[\"RESPI\"].to_csv('csv_respi.csv', index=False)\n"
   ]
  },
  {
   "cell_type": "code",
   "execution_count": 65,
   "id": "98ca6c33-b6ee-4e1f-8c16-a0ec29dd3a34",
   "metadata": {},
   "outputs": [],
   "source": [
    "dfd = pd.read_csv('csv_respi.csv', low_memory=False)\n",
    "\n",
    "\n"
   ]
  },
  {
   "cell_type": "code",
   "execution_count": 64,
   "id": "7a473dd1-34cb-44a9-82bc-b9bf82fbc48a",
   "metadata": {},
   "outputs": [
    {
     "name": "stdout",
     "output_type": "stream",
     "text": [
      "❌ Erreur: Failed to upload csv_respi.csv to stargate-brandwatch-data/brandwatch1303.csv: An error occurred (AccessDenied) when calling the CreateMultipartUpload operation: Access Denied\n"
     ]
    }
   ],
   "source": [
    "import boto3\n",
    "\n",
    "def envoyer_fichier_vers_s3(chemin_local, nom_bucket, chemin_s3):\n",
    "    s3_client = boto3.client('s3')\n",
    "    try:\n",
    "        s3_client.upload_file(\n",
    "            Filename=chemin_local,\n",
    "            Bucket=nom_bucket,\n",
    "            Key=chemin_s3\n",
    "        )\n",
    "        print(f\"✓ Succès! Fichier envoyé vers s3://{nom_bucket}/{chemin_s3}\")\n",
    "    except Exception as e:\n",
    "        print(f\"❌ Erreur: {e}\")\n",
    "\n",
    "# Remplacez \"brandwatch1303.csv\" par le nom de votre fichier CSV local\n",
    "envoyer_fichier_vers_s3(\n",
    "    chemin_local=\"csv_respi.csv\",  # Nom du fichier sur votre machine\n",
    "    nom_bucket=\"stargate-brandwatch-data\",  \n",
    "    chemin_s3=\"brandwatch1303.csv\"  # Nom du fichier sur S3\n",
    ")\n"
   ]
  },
  {
   "cell_type": "code",
   "execution_count": 50,
   "id": "fb3aaf78-7b3a-4b2b-8385-be5b4a1677dd",
   "metadata": {},
   "outputs": [],
   "source": [
    "import boto3\n",
    "from io import StringIO\n",
    "\n",
    "# Fonction pour envoyer un DataFrame vers S3\n",
    "def envoyer_df_vers_s3(nom_bucket, chemin_fichier):\n",
    "    \"\"\"\n",
    "    Envoie un DataFrame vers S3 en format CSV\n",
    "    \n",
    "    Arguments:\n",
    "        df: Votre DataFrame pandas\n",
    "        nom_bucket: Nom du bucket S3 (ex: 'mon-bucket')\n",
    "        chemin_fichier: Chemin dans S3 (ex: 'dossier/mon-fichier.csv')\n",
    "    \"\"\"\n",
    "    # Convertir le DataFrame en CSV\n",
    "    #csv_buffer = StringIO()\n",
    "    #df.to_csv(csv_buffer, index=False)\n",
    "    \n",
    "    # Créer le client S3 \n",
    "    s3_client = boto3.client('s3')\n",
    "    \n",
    "    # Envoyer le fichier\n",
    "    try:\n",
    "        s3_client.put_object(\n",
    "            Bucket=nom_bucket,\n",
    "            Key=chemin_fichier,\n",
    "            Body=csv_buffer.getvalue()\n",
    "        )\n",
    "        print(f\"✓ Succès! Fichier envoyé vers s3://{nom_bucket}/{chemin_fichier}\")\n",
    "    except Exception as e:\n",
    "        print(f\"❌ Erreur: {e}\")\n",
    "\n",
    "envoyer_df_vers_s3(\n",
    "        nom_bucket=\"stargate-brandwatch-data\",  # ⚠️ Remplacez par le vrai nom du bucket\n",
    "        chemin_fichier=f\"brandwatch1303\"  # Adaptez le chemin selon vos besoins\n",
    "    )"
   ]
  },
  {
   "cell_type": "code",
   "execution_count": 51,
   "id": "e3c8b7be-6284-4a34-bc1d-faeab43797a5",
   "metadata": {},
   "outputs": [
    {
     "name": "stdout",
     "output_type": "stream",
     "text": [
      "❌ Erreur: name 'csv_buffer' is not defined\n"
     ]
    }
   ],
   "source": [
    "envoyer_df_vers_s3(\n",
    "        df=dataframe,\n",
    "        nom_bucket=\"nom-de-votre-bucket\",  # ⚠️ Remplacez par le vrai nom du bucket\n",
    "        chemin_fichier=f\"dossier/{nom_fichier}\"  # Adaptez le chemin selon vos besoins\n",
    "    )"
   ]
  },
  {
   "cell_type": "markdown",
   "id": "5d7790af-5575-4583-aa10-41f9bb2e22cb",
   "metadata": {},
   "source": [
    "Définir les 5 querys les appeler avec un code particulier \n",
    "\n",
    "définir une variable qui prend ces querys, \n",
    "\n",
    "faire un script qui boucle pour ces querys, \n",
    "\n",
    "faire marche l'automatisation tous les jours sur one AI\n",
    "\n",
    "comprendre c'est quoi mettre dans le bon format\n",
    "\n",
    "envoyer un csv (jsp) vers bucket\n",
    "\n",
    "essayer de gère l'erreur d'attente, etn reesaynt car si c'est juste une fois tous les jours ca le fait, et pour le zip, ouvrir un ticket brandwatch."
   ]
  }
 ],
 "metadata": {
  "kernelspec": {
   "display_name": "Python 3 (ipykernel)",
   "language": "python",
   "name": "python3"
  },
  "language_info": {
   "codemirror_mode": {
    "name": "ipython",
    "version": 3
   },
   "file_extension": ".py",
   "mimetype": "text/x-python",
   "name": "python",
   "nbconvert_exporter": "python",
   "pygments_lexer": "ipython3",
   "version": "3.10.14"
  }
 },
 "nbformat": 4,
 "nbformat_minor": 5
}
